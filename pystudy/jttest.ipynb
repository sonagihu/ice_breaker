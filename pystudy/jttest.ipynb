{
 "cells": [
  {
   "cell_type": "code",
   "execution_count": 2,
   "metadata": {},
   "outputs": [
    {
     "name": "stdout",
     "output_type": "stream",
     "text": [
      "https://www.naver.com\n"
     ]
    }
   ],
   "source": [
    "url = \"https://www.naver.com\"\n",
    "print(url)"
   ]
  },
  {
   "cell_type": "code",
   "execution_count": 17,
   "metadata": {},
   "outputs": [
    {
     "name": "stdout",
     "output_type": "stream",
     "text": [
      "True\n",
      "{3: 'JT', 5: '김태호', 7: '유재석'}\n",
      "{5: '김태호', 7: '유재석'}\n",
      "('돈까스', '치즈까스')\n",
      "{1, 2, 3, 5}\n",
      "{1, 2}\n"
     ]
    }
   ],
   "source": [
    "# # # array and list\n",
    "# # subway = [1,2,3]\n",
    "# # mixlist = [\"JT\", 3]\n",
    "# # mixlist.extend(subway)\n",
    "# # print(mixlist)\n",
    "\n",
    "# # # dictionary: key, value\n",
    "# cabinet = {3:\"JT\", 5:\"김태호\"}\n",
    "# # print(cabinet.get(35, \"Null\"))\n",
    "\n",
    "# #print key in dictionary\n",
    "# print(3 in cabinet)\n",
    "# cabinet[7] = \"유재석\"\n",
    "\n",
    "\n",
    "# print(cabinet)\n",
    "# del cabinet[3]\n",
    "# print(cabinet)\n",
    "\n",
    "# #tuple\n",
    "# # is a list but cannot modify\n",
    "# menu = (\"돈까스\", \"치즈까스\")\n",
    "# print(menu)\n",
    "\n",
    "# #set\n",
    "# my_set = {1,2,3,3,5}\n",
    "# print(my_set)\n",
    "# my_set2 = set([1,2])\n",
    "# print(my_set2)\n",
    "\n",
    "# modify data structure\n",
    "\n"
   ]
  },
  {
   "cell_type": "code",
   "execution_count": 20,
   "metadata": {},
   "outputs": [
    {
     "name": "stdout",
     "output_type": "stream",
     "text": [
      "{'우유', '커피'} <class 'set'>\n",
      "['우유', '커피'] <class 'list'>\n"
     ]
    }
   ],
   "source": [
    "# modify data structure\n",
    "menu = {\"커피\", \"우유\"}\n",
    "print(menu, type(menu))\n",
    "menu = list(menu)\n",
    "print(menu, type(menu))"
   ]
  },
  {
   "cell_type": "code",
   "execution_count": 23,
   "metadata": {},
   "outputs": [
    {
     "name": "stdout",
     "output_type": "stream",
     "text": [
      "[1, 2, 3, 4, 5, 6, 7, 8, 9, 10, 11, 12, 13, 14, 15, 16, 17, 18, 19, 20] <class 'list'>\n"
     ]
    },
    {
     "data": {
      "text/plain": [
       "[1, 20, 15]"
      ]
     },
     "execution_count": 23,
     "metadata": {},
     "output_type": "execute_result"
    }
   ],
   "source": [
    "from random import *\n",
    "\n",
    "users = range(1,21)\n",
    "#print(type(users))\n",
    "users = list(users)\n",
    "print(users, type(users))\n",
    "sample(users, 3)"
   ]
  },
  {
   "cell_type": "code",
   "execution_count": 24,
   "metadata": {},
   "outputs": [
    {
     "name": "stdout",
     "output_type": "stream",
     "text": [
      "[1, 2, 3, 4, 5]\n",
      "[101, 102, 103, 104, 105]\n"
     ]
    }
   ],
   "source": [
    "# if\n",
    "# for\n",
    "# while break, continue\n",
    "students = [1,2,3,4,5]\n",
    "print(students)\n",
    "\n",
    "students = [i+100 for i in students]\n",
    "print(students)\n",
    "\n"
   ]
  },
  {
   "cell_type": "code",
   "execution_count": 30,
   "metadata": {},
   "outputs": [
    {
     "name": "stdout",
     "output_type": "stream",
     "text": [
      "o 1번째 손님 (소요시간: 11분)\n",
      "  2번째 손님 (소요시간: 46분)\n",
      "  3번째 손님 (소요시간: 37분)\n",
      "  4번째 손님 (소요시간: 23분)\n",
      "o 5번째 손님 (소요시간: 7분)\n",
      "  6번째 손님 (소요시간: 39분)\n",
      "o 7번째 손님 (소요시간: 8분)\n",
      "o 8번째 손님 (소요시간: 7분)\n",
      "o 9번째 손님 (소요시간: 10분)\n",
      "  10번째 손님 (소요시간: 26분)\n",
      "  11번째 손님 (소요시간: 22분)\n",
      "o 12번째 손님 (소요시간: 7분)\n",
      "o 13번째 손님 (소요시간: 11분)\n",
      "  14번째 손님 (소요시간: 25분)\n",
      "o 15번째 손님 (소요시간: 14분)\n",
      "  16번째 손님 (소요시간: 43분)\n",
      "  17번째 손님 (소요시간: 23분)\n",
      "  18번째 손님 (소요시간: 33분)\n",
      "  19번째 손님 (소요시간: 38분)\n",
      "  20번째 손님 (소요시간: 19분)\n",
      "  21번째 손님 (소요시간: 50분)\n",
      "  22번째 손님 (소요시간: 23분)\n",
      "o 23번째 손님 (소요시간: 15분)\n",
      "  24번째 손님 (소요시간: 18분)\n",
      "o 25번째 손님 (소요시간: 6분)\n",
      "  26번째 손님 (소요시간: 30분)\n",
      "  27번째 손님 (소요시간: 27분)\n",
      "o 28번째 손님 (소요시간: 12분)\n",
      "  29번째 손님 (소요시간: 26분)\n",
      "  30번째 손님 (소요시간: 25분)\n",
      "  31번째 손님 (소요시간: 40분)\n",
      "  32번째 손님 (소요시간: 42분)\n",
      "  33번째 손님 (소요시간: 28분)\n",
      "o 34번째 손님 (소요시간: 5분)\n",
      "o 35번째 손님 (소요시간: 7분)\n",
      "  36번째 손님 (소요시간: 30분)\n",
      "o 37번째 손님 (소요시간: 5분)\n",
      "  38번째 손님 (소요시간: 49분)\n",
      "  39번째 손님 (소요시간: 33분)\n",
      "o 40번째 손님 (소요시간: 15분)\n",
      "  41번째 손님 (소요시간: 31분)\n",
      "o 42번째 손님 (소요시간: 9분)\n",
      "  43번째 손님 (소요시간: 43분)\n",
      "  44번째 손님 (소요시간: 31분)\n",
      "o 45번째 손님 (소요시간: 9분)\n",
      "  46번째 손님 (소요시간: 31분)\n",
      "  47번째 손님 (소요시간: 47분)\n",
      "  48번째 손님 (소요시간: 31분)\n",
      "  49번째 손님 (소요시간: 16분)\n",
      "o 50번째 손님 (소요시간: 11분)\n"
     ]
    }
   ],
   "source": [
    "# Quiz\n",
    "\n",
    "from math import *\n",
    "customer = list(range(1,51))\n",
    "\n",
    "#print(customer)\n",
    "\n",
    "for customer in customer:\n",
    "    time = randrange(5,51)\n",
    "    if 5<= time <= 15:\n",
    "        print(\"{0} {1}번째 손님 (소요시간: {2}분)\".format(\"o\", customer, time))\n",
    "    else :\n",
    "        print(\"{0} {1}번째 손님 (소요시간: {2}분)\".format(\" \", customer, time))\n",
    "\n"
   ]
  },
  {
   "cell_type": "code",
   "execution_count": 48,
   "metadata": {},
   "outputs": [
    {
     "name": "stdout",
     "output_type": "stream",
     "text": [
      "aa\n",
      "이름 김정태\t나이: 20\t 파이썬 C++ \n"
     ]
    }
   ],
   "source": [
    "#function\n",
    "def open_account():\n",
    "    print(\"aa\")    \n",
    "\n",
    "open_account()    \n",
    "\n",
    "#default 값을 줄 수도\n",
    "def profile(name, age=20, language=\"java\"):\n",
    "    print(\"이름 {0}\\t나이: {1}\\t 주언어: {2}\" \\\n",
    "        .format(name, age, language), end=\" \")\n",
    "    \n",
    "# profile(\"김정태\")\n",
    "\n",
    "\n",
    "# 가변인자   \n",
    "\n",
    "def profile2(name, age=20, *lang):\n",
    "    print(\"이름 {0}\\t나이: {1}\\t\".format(name, age), end=\" \")\n",
    "    for l in lang:\n",
    "        print(l, end=\" \")\n",
    "    print()\n",
    "        \n",
    "profile2(\"김정태\", 20, \"파이썬\", \"C++\")\n",
    "    \n"
   ]
  },
  {
   "cell_type": "code",
   "execution_count": 50,
   "metadata": {},
   "outputs": [
    {
     "name": "stdout",
     "output_type": "stream",
     "text": [
      "totol gun: 10\n",
      "left gun in function : 8\n",
      "left gun: 8\n"
     ]
    }
   ],
   "source": [
    "# 함수내에서 전역 변수를 쓰려면 global keyword를 붙여야 한다!\n",
    "\n",
    "gun = 10\n",
    "\n",
    "def checkpoint(soldiers):\n",
    "    global gun\n",
    "    gun = gun - soldiers\n",
    "    print(\"left gun in function : {0}\".format(gun))\n",
    "\n",
    "print(\"totol gun: {0}\".format(gun))\n",
    "checkpoint(2)\n",
    "print(\"left gun: {0}\".format(gun))\n"
   ]
  },
  {
   "cell_type": "code",
   "execution_count": 55,
   "metadata": {},
   "outputs": [
    {
     "name": "stdout",
     "output_type": "stream",
     "text": [
      "키 166 남자의 표준 체중은 60.62kg입니다.\n"
     ]
    }
   ],
   "source": [
    "# exercise\n",
    "\n",
    "def std_weight(height, gender):\n",
    "    \n",
    "    if gender=='M':\n",
    "       weight = height*height*22/10000\n",
    "    else:\n",
    "       weight = height*height*21/10000  \n",
    "    \n",
    "    return round(weight, 2)\n",
    "\n",
    "gender = \"M\"\n",
    "height = 166\n",
    "weight = std_weight(height, gender)\n",
    "\n",
    "if gender==\"M\":\n",
    "    print(\"키 {0} 남자의 표준 체중은 {1}kg입니다.\".format(height, weight))\n",
    "else:\n",
    "    print(\"키 {0} 여자의 표준 체중은 {1}kg입니다.\".format(height, weight))"
   ]
  },
  {
   "cell_type": "code",
   "execution_count": 69,
   "metadata": {},
   "outputs": [
    {
     "name": "stdout",
     "output_type": "stream",
     "text": [
      "java;;python\n",
      "수학        100\n",
      "영어         50\n",
      "코딩          7\n",
      "       aaa\n",
      "+300______\n",
      "0.67\n"
     ]
    }
   ],
   "source": [
    "import sys\n",
    "print(\"java\", \"python\", sep=\";;\")\n",
    "\n",
    "scores = {\"수학\": 100, \"영어\":50, \"코딩\": 7}\n",
    "for subject, score in scores.items():\n",
    "    print(subject.ljust(8), str(score).rjust(4))\n",
    "    \n",
    "print(\"{0: >10}\".format(\"aaa\"))\n",
    "print(\"{0:_<+10}\".format(300))\n",
    "print(\"{0:.2f}\".format(2/3))"
   ]
  },
  {
   "cell_type": "code",
   "execution_count": 72,
   "metadata": {},
   "outputs": [
    {
     "name": "stdout",
     "output_type": "stream",
     "text": [
      "{'이름': '김정태', '나이': 30, '취미': ['탁구', '골프']}\n"
     ]
    }
   ],
   "source": [
    "# file i/o\n",
    "# pickle\n",
    "\n",
    "import pickle\n",
    "profile_file = open(\"profile.pickle\", \"wb\")\n",
    "\n",
    "profile = {\"이름\":\"김정태\", \"나이\":30, \"취미\":[\"탁구\", \"골프\"]}\n",
    "\n",
    "print(profile)\n",
    "pickle.dump(profile, profile_file)\n",
    "profile_file.close()\n",
    "\n",
    "\n",
    "\n"
   ]
  },
  {
   "cell_type": "code",
   "execution_count": 74,
   "metadata": {},
   "outputs": [],
   "source": [
    "#with\n",
    "# 파일을 with로 열면 자동으로 닫아준다. (에러가 발생해도 close를 보장함)\n",
    "# with open('readme.txt', 'w', encoding='utf8') as myfile:\n",
    "#     myfile.write(\"aaa\")\n",
    "    \n"
   ]
  },
  {
   "cell_type": "code",
   "execution_count": 76,
   "metadata": {},
   "outputs": [
    {
     "name": "stdout",
     "output_type": "stream",
     "text": [
      "마린 unit is created\n",
      "hp 40 damage 5\n",
      "마린 unit is created\n",
      "hp 40 damage 5\n",
      "탱크 unit is created\n",
      "hp 150 damage 35\n",
      "탱크 unit is created\n",
      "hp 150 damage 35\n",
      "탱크 seize mode\n"
     ]
    }
   ],
   "source": [
    "# class\n",
    "# it's template has variables, function in it\n",
    "# __init__ : constructor\n",
    "\n",
    "class Unit:\n",
    "    def __init__(self, name, hp) -> None:\n",
    "        self.name = name\n",
    "        self.hp = hp\n",
    "\n",
    "# 상속\n",
    "class AttackUnit(Unit):\n",
    "    def __init__(self, name, hp, damage) -> None:\n",
    "        Unit.__init__(self, name, hp)\n",
    "        self.damage = damage\n",
    "        \n",
    "    def attack(self, location):\n",
    "        print(\"{0} : {1} 방향으로 공격합니다. 공격력 {2}\".format(self.name, location, self.damage))\n",
    "\n",
    "\n",
    "\n",
    "# marine1 = Unit(\"마린\", 40, 5)\n",
    "# marine1 = Unit(\"마린\", 40, 5)\n",
    "# tank1 = Unit(\"탱크\", 150, 35)\n",
    "# tank2 = Unit(\"탱크\", 150, 35)\n",
    "\n",
    "# # 파이썬에서는 객체의 멤버 변수를 외부에서 만들어 쓸 수도 있음\n",
    "# tank2.seize = True;\n",
    "\n",
    "# if tank2.seize == True:\n",
    "#     print(\"{0} seize mode\".format(tank2.name))\n",
    "\n",
    "# 파이썬 class는 multiple inheritance가 가능\n",
    "# pass keyword: 아무것도 안함\n",
    "\n",
    "class BuildingUnit(Unit):\n",
    "    def __init__(self, name, hp) -> None:\n",
    "        super().__init__(name, hp)\n",
    "\n",
    "# super는 다중 상속의 경우 첫번째 상속 class만 가르키기 때문에 어려움이 있음\n",
    "        "
   ]
  },
  {
   "cell_type": "code",
   "execution_count": 80,
   "metadata": {},
   "outputs": [
    {
     "name": "stdout",
     "output_type": "stream",
     "text": [
      "divide calculator\n",
      "zero divide\n"
     ]
    }
   ],
   "source": [
    "# exception handling\n",
    "\n",
    "try:\n",
    "    print(\"divide calculator\")\n",
    "    num1 = 2\n",
    "    num2 = 0\n",
    "    print(\"result {0}\".format(num1/num2))\n",
    "    \n",
    "except ZeroDivisionError:\n",
    "    print(\"zero divide\")\n",
    "    "
   ]
  }
 ],
 "metadata": {
  "kernelspec": {
   "display_name": "ice_breaker-eKpn6NeT",
   "language": "python",
   "name": "python3"
  },
  "language_info": {
   "codemirror_mode": {
    "name": "ipython",
    "version": 3
   },
   "file_extension": ".py",
   "mimetype": "text/x-python",
   "name": "python",
   "nbconvert_exporter": "python",
   "pygments_lexer": "ipython3",
   "version": "3.11.4"
  }
 },
 "nbformat": 4,
 "nbformat_minor": 2
}
